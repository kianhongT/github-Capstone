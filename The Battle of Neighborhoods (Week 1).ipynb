{
 "cells": [
  {
   "cell_type": "markdown",
   "metadata": {},
   "source": [
    "# Introduction/Business Problem"
   ]
  },
  {
   "cell_type": "markdown",
   "metadata": {},
   "source": [
    "## Introduction:\n",
    "    \n",
    "There is a lack of fitness facility in some of the neighborhoods in Toronto. Hence, I wanted to find out which neighborhoods do not have gym, yoga studio, pool, park, etc. within the vicinity. \n",
    "\n",
    "## Target Audience:\n",
    "\n",
    "Entrepreneurs who wanted to open fitness centers or the city's health department/council "
   ]
  },
  {
   "cell_type": "markdown",
   "metadata": {},
   "source": [
    "# Data\n",
    "\n",
    "1. toronto's list of neighborhood from wikipedia\n",
    "2. geographical coordinates csv file from http://cocl.us/Geospatial_data\n",
    "3. list of venues from Foursquare\n",
    "\n",
    "Top 10 venues data obtained from Foursquare will be use to analyze each neighborhoods which are catergorized into clusters based on similar venue types. From these data, I will remove neighborhoods with Gym, Yoga Studio, Dance Studio, Park, Pool , Soccer Field, Golf Course in their top 10 venues. The neighborhoods left will be the ones most suitable to open a fitness center.\n"
   ]
  },
  {
   "cell_type": "code",
   "execution_count": null,
   "metadata": {},
   "outputs": [],
   "source": []
  }
 ],
 "metadata": {
  "kernelspec": {
   "display_name": "Python",
   "language": "python",
   "name": "conda-env-python-py"
  },
  "language_info": {
   "codemirror_mode": {
    "name": "ipython",
    "version": 3
   },
   "file_extension": ".py",
   "mimetype": "text/x-python",
   "name": "python",
   "nbconvert_exporter": "python",
   "pygments_lexer": "ipython3",
   "version": "3.6.10"
  }
 },
 "nbformat": 4,
 "nbformat_minor": 4
}
